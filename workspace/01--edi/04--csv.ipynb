{
 "cells": [
  {
   "cell_type": "markdown",
   "metadata": {},
   "source": [
    "CSV\n",
    "===\n",
    "- excel\n",
    "- google spreadsheet\n",
    "- open office\n",
    "\n",
    "1. jak wyglada\n",
    "2. jak się otwiera\n",
    "\n",
    "CSV\n",
    "\n",
    "- kazda linia jest atomowa\n",
    "- pola sa oddzielone separatore\n",
    "- tylko dane, zadnych smieci protokołów, instrukcji, bloków (!;\\t,)\n",
    "- nie potrzebuje zadnego edytora\n",
    "- nie potrzebuje excela\n",
    "\n"
   ]
  },
  {
   "cell_type": "code",
   "execution_count": 1,
   "metadata": {},
   "outputs": [
    {
     "name": "stdout",
     "output_type": "stream",
     "text": [
      "Connecting to s3.eu-central-1.amazonaws.com (52.219.73.80:443)\n",
      "otomoto.csv          100% |********************************| 19.9M  0:00:00 ETA\n"
     ]
    }
   ],
   "source": [
    "!wget https://s3.eu-central-1.amazonaws.com/jkan.pl/data-science/uek/otomoto.csv"
   ]
  },
  {
   "cell_type": "code",
   "execution_count": 2,
   "metadata": {},
   "outputs": [
    {
     "name": "stdout",
     "output_type": "stream",
     "text": [
      "it tooks {} secconds 0.12576866149902344\n"
     ]
    },
    {
     "data": {
      "text/plain": [
       "['\"id\"',\n",
       " '\"url\"',\n",
       " '\"Faktura VAT\"',\n",
       " '\"Marka pojazdu\"',\n",
       " '\"Model pojazdu\"',\n",
       " '\"Kategoria\"',\n",
       " '\"Pojemność skokowa\"',\n",
       " '\"Liczba miejsc\"',\n",
       " '\"Zarejestrowany w Polsce\"',\n",
       " '\"Wersja\"',\n",
       " '\"Typ\"',\n",
       " '\"Rok produkcji\"',\n",
       " '\"Serwisowany w ASO\"',\n",
       " '\"Leasing\"',\n",
       " '\"VIN\"',\n",
       " '\"Homologacja ciężarowa\"',\n",
       " '\"VAT marża\"',\n",
       " '\"Pierwszy właściciel\"',\n",
       " '\"Filtr cząstek stałych\"',\n",
       " '\"Rodzaj paliwa\"',\n",
       " '\"Emisja CO2\"',\n",
       " '\"Kraj pochodzenia\"',\n",
       " '\"Numer rejestracyjny pojazdu\"',\n",
       " '\"Bezwypadkowy\"',\n",
       " '\"Stan\"',\n",
       " '\"Pierwsza rejestracja\"',\n",
       " '\"title\"',\n",
       " '\"price\"',\n",
       " '\"Skrzynia biegów\"',\n",
       " '\"Perłowy\"',\n",
       " '\"Kierownica po prawej (Anglik)\"',\n",
       " '\"Liczba drzwi\"',\n",
       " '\"Metalik\"',\n",
       " '\"Przebieg\"',\n",
       " '\"Akryl (niemetalizowany)\"',\n",
       " '\"Możliwość finansowania\"',\n",
       " '\"Uszkodzony\"',\n",
       " '\"Oferta od\"',\n",
       " '\"Kod Silnika\"',\n",
       " '\"Kolor\"',\n",
       " '\"Napęd\"',\n",
       " '\"Moc\"\\n']"
      ]
     },
     "execution_count": 2,
     "metadata": {},
     "output_type": "execute_result"
    }
   ],
   "source": [
    "import os\n",
    "from time import time\n",
    "\n",
    "def parse_csv_file(datafile):\n",
    "    data = []\n",
    "    with open(datafile) as f:\n",
    "        for line in f:\n",
    "            data.append(line)\n",
    "    return data\n",
    "\n",
    "start = time()\n",
    "data = parse_csv_file('otomoto.csv')\n",
    "end = time()\n",
    "\n",
    "time_taken = end - start\n",
    "\n",
    "print(\"it tooks {} secconds\", time_taken)\n",
    "data[0].split(';')"
   ]
  },
  {
   "cell_type": "code",
   "execution_count": 11,
   "metadata": {},
   "outputs": [
    {
     "name": "stdout",
     "output_type": "stream",
     "text": [
      "OrderedDict([('id', '6034090022'),\n",
      "             ('url',\n",
      "              'https://www.otomoto.pl/oferta/mercedes-benz-klasa-g-350d-pakiet-amg-designo-manufaktur-edition-ID6AmqsC.html'),\n",
      "             ('Faktura VAT', 'Tak'),\n",
      "             ('Marka pojazdu', 'Mercedes-Benz'),\n",
      "             ('Model pojazdu', 'Klasa G'),\n",
      "             ('Kategoria', 'Osobowe'),\n",
      "             ('Pojemność skokowa', '2 987 cm3'),\n",
      "             ('Liczba miejsc', '5'),\n",
      "             ('Zarejestrowany w Polsce', 'Tak'),\n",
      "             ('Wersja', 'W463 (1992-)'),\n",
      "             ('Typ', 'SUV'),\n",
      "             ('Rok produkcji', '2016'),\n",
      "             ('Serwisowany w ASO', 'Tak'),\n",
      "             ('Leasing', ''),\n",
      "             ('VIN', 'WDB4633481X263455'),\n",
      "             ('Homologacja ciężarowa', ''),\n",
      "             ('VAT marża', ''),\n",
      "             ('Pierwszy właściciel', 'Tak'),\n",
      "             ('Filtr cząstek stałych', 'Tak'),\n",
      "             ('Rodzaj paliwa', 'Diesel'),\n",
      "             ('Emisja CO2', '261 g/km'),\n",
      "             ('Kraj pochodzenia', 'Polska'),\n",
      "             ('Numer rejestracyjny pojazdu', 'DSR40090'),\n",
      "             ('Bezwypadkowy', 'Tak'),\n",
      "             ('Stan', 'Używane'),\n",
      "             ('Pierwsza rejestracja', ''),\n",
      "             ('title', 'Mercedes-Benz Klasa G W463'),\n",
      "             ('price', '434900.0'),\n",
      "             ('Skrzynia biegów', 'Automatyczna hydrauliczna (klasyczna)'),\n",
      "             ('Perłowy', ''),\n",
      "             ('Kierownica po prawej (Anglik)', ''),\n",
      "             ('Liczba drzwi', '5'),\n",
      "             ('Metalik', 'Tak'),\n",
      "             ('Przebieg', '52 904 km'),\n",
      "             ('Akryl (niemetalizowany)', ''),\n",
      "             ('Możliwość finansowania', 'Tak'),\n",
      "             ('Uszkodzony', ''),\n",
      "             ('Oferta od', 'Firmy'),\n",
      "             ('Kod Silnika', 'G 350'),\n",
      "             ('Kolor', 'Szary'),\n",
      "             ('Napęd', '4x4 (stały)'),\n",
      "             ('Moc', '245 KM')])\n"
     ]
    }
   ],
   "source": [
    "import os\n",
    "import pprint\n",
    "import csv\n",
    "\n",
    "def parse_csv(datafile):\n",
    "    data = []\n",
    "    with open(datafile, 'r') as f:\n",
    "        r = csv.DictReader(f, delimiter=\";\")\n",
    "        for line in r:\n",
    "            data.append(line)\n",
    "    return data\n",
    "\n",
    "data = parse_csv('otomoto.csv')\n",
    "pprint.pprint(data[1])"
   ]
  },
  {
   "cell_type": "markdown",
   "metadata": {},
   "source": [
    "Najpopularniejsza marka?"
   ]
  },
  {
   "cell_type": "code",
   "execution_count": 7,
   "metadata": {},
   "outputs": [],
   "source": [
    "from collections import Counter"
   ]
  },
  {
   "cell_type": "code",
   "execution_count": 18,
   "metadata": {},
   "outputs": [
    {
     "data": {
      "text/plain": [
       "collections.OrderedDict"
      ]
     },
     "execution_count": 18,
     "metadata": {},
     "output_type": "execute_result"
    }
   ],
   "source": [
    "type(data[0])"
   ]
  },
  {
   "cell_type": "code",
   "execution_count": 19,
   "metadata": {},
   "outputs": [],
   "source": [
    "brands = (row.get('Marka pojazdu') for row in data)"
   ]
  },
  {
   "cell_type": "code",
   "execution_count": 21,
   "metadata": {},
   "outputs": [
    {
     "data": {
      "text/plain": [
       "[('Volkswagen', 5598),\n",
       " ('Opel', 4361),\n",
       " ('BMW', 4254),\n",
       " ('Audi', 4016),\n",
       " ('Ford', 3643),\n",
       " ('Mercedes-Benz', 3080),\n",
       " ('Renault', 2684),\n",
       " ('Toyota', 2525),\n",
       " ('Škoda', 2370),\n",
       " ('Peugeot', 1906)]"
      ]
     },
     "execution_count": 21,
     "metadata": {},
     "output_type": "execute_result"
    }
   ],
   "source": [
    "cnt = Counter(brands)\n",
    "cnt.most_common(10)"
   ]
  },
  {
   "cell_type": "code",
   "execution_count": null,
   "metadata": {},
   "outputs": [],
   "source": []
  },
  {
   "cell_type": "code",
   "execution_count": null,
   "metadata": {},
   "outputs": [],
   "source": []
  }
 ],
 "metadata": {
  "kernelspec": {
   "display_name": "Python 3",
   "language": "python",
   "name": "python3"
  },
  "language_info": {
   "codemirror_mode": {
    "name": "ipython",
    "version": 3
   },
   "file_extension": ".py",
   "mimetype": "text/x-python",
   "name": "python",
   "nbconvert_exporter": "python",
   "pygments_lexer": "ipython3",
   "version": "3.7.5"
  }
 },
 "nbformat": 4,
 "nbformat_minor": 2
}
