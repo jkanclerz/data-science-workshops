{
 "cells": [
  {
   "cell_type": "code",
   "execution_count": 3,
   "metadata": {},
   "outputs": [
    {
     "name": "stdout",
     "output_type": "stream",
     "text": [
      "Collecting psycopg2\n",
      "  Using cached https://files.pythonhosted.org/packages/84/d7/6a93c99b5ba4d4d22daa3928b983cec66df4536ca50b22ce5dcac65e4e71/psycopg2-2.8.4.tar.gz\n",
      "Installing collected packages: psycopg2\n",
      "    Running setup.py install for psycopg2 ... \u001b[?25ldone\n",
      "\u001b[?25hSuccessfully installed psycopg2-2.8.4\n",
      "\u001b[33mWARNING: You are using pip version 19.3.1; however, version 20.0.2 is available.\n",
      "You should consider upgrading via the 'pip install --upgrade pip' command.\u001b[0m\n"
     ]
    }
   ],
   "source": [
    "!pip install psycopg2"
   ]
  },
  {
   "cell_type": "code",
   "execution_count": 5,
   "metadata": {},
   "outputs": [],
   "source": [
    "import psycopg2"
   ]
  },
  {
   "cell_type": "code",
   "execution_count": 6,
   "metadata": {},
   "outputs": [],
   "source": [
    "connection = psycopg2.connect(user=\"datascience\",\n",
    "                                  password=\"datascience\",\n",
    "                                  host=\"127.0.0.1\",\n",
    "                                  port=\"5432\",\n",
    "                                  database=\"datascience\")"
   ]
  },
  {
   "cell_type": "code",
   "execution_count": 7,
   "metadata": {},
   "outputs": [],
   "source": [
    "\n"
   ]
  },
  {
   "cell_type": "code",
   "execution_count": 9,
   "metadata": {},
   "outputs": [],
   "source": [
    "# Print PostgreSQL version\n",
    "cursor.execute(\"SELECT version();\")\n",
    "record = cursor.fetchone()"
   ]
  },
  {
   "cell_type": "code",
   "execution_count": 10,
   "metadata": {},
   "outputs": [
    {
     "name": "stdout",
     "output_type": "stream",
     "text": [
      "('PostgreSQL 11.6 on x86_64-alpine-linux-musl, compiled by gcc (Alpine 8.3.0) 8.3.0, 64-bit',)\n"
     ]
    }
   ],
   "source": [
    "print(record)"
   ]
  },
  {
   "cell_type": "code",
   "execution_count": 50,
   "metadata": {},
   "outputs": [],
   "source": [
    "create_table = '''\n",
    "DROP TABLE Employee;\n",
    "CREATE TABLE IF NOT EXISTS Employee (\n",
    "  id SERIAL PRIMARY KEY,\n",
    "  name text NOT NULL,\n",
    "  sallary money NOT NULL\n",
    ")\n",
    "'''"
   ]
  },
  {
   "cell_type": "code",
   "execution_count": 51,
   "metadata": {},
   "outputs": [],
   "source": [
    "def connect_db():\n",
    "    connection = psycopg2.connect(user=\"datascience\",\n",
    "                                  password=\"datascience\",\n",
    "                                  host=\"127.0.0.1\",\n",
    "                                  port=\"5432\",\n",
    "                                  database=\"datascience\")\n",
    "    return connection"
   ]
  },
  {
   "cell_type": "code",
   "execution_count": 52,
   "metadata": {},
   "outputs": [
    {
     "name": "stdout",
     "output_type": "stream",
     "text": [
      "PostgreSQL connection is closed\n"
     ]
    }
   ],
   "source": [
    "try:\n",
    "    connection = connect_db()\n",
    "    cursor = connection.cursor()\n",
    "    cursor.execute(create_table)\n",
    "    connection.commit()\n",
    "except (Exception, psycopg2.DataError) as error:\n",
    "    print (\"Error while creating PostgreSQL table\", error)\n",
    "finally:\n",
    "    #closing database connection.\n",
    "    if(connection):\n",
    "        cursor.close()\n",
    "        connection.close()\n",
    "        print(\"PostgreSQL connection is closed\")"
   ]
  },
  {
   "cell_type": "code",
   "execution_count": 53,
   "metadata": {},
   "outputs": [
    {
     "name": "stdout",
     "output_type": "stream",
     "text": [
      "Error while inserting tuple index out of range\n",
      "PostgreSQL connection is closed\n"
     ]
    }
   ],
   "source": [
    "insert_sql = '''\n",
    "INSERT INTO Employee (name, sallary) VALUES (%s,%s)\n",
    "''';\n",
    "\n",
    "try:\n",
    "    connection = connect_db()\n",
    "    cursor = connection.cursor()\n",
    "    cursor.execute(insert_sql, (\"jakub\", 2500.00))\n",
    "    connection.commit()\n",
    "except (Exception, psycopg2.DataError) as error:\n",
    "    print (\"Error while inserting\", error)\n",
    "finally:\n",
    "    #closing database connection.\n",
    "    if(connection):\n",
    "        cursor.close()\n",
    "        connection.close()\n",
    "        print(\"PostgreSQL connection is closed\")"
   ]
  },
  {
   "cell_type": "code",
   "execution_count": 48,
   "metadata": {},
   "outputs": [
    {
     "name": "stdout",
     "output_type": "stream",
     "text": [
      "PostgreSQL connection is closed\n"
     ]
    }
   ],
   "source": [
    "select = '''\n",
    "    select * from Employee;\n",
    "'''\n",
    "\n",
    "try:\n",
    "    connection = connect_db()\n",
    "    cursor = connection.cursor()\n",
    "    cursor.execute(select)\n",
    "    records = cursor.fetchall()\n",
    "except (Exception, psycopg2.DataError) as error:\n",
    "    print (\"Error while inserting\", error)\n",
    "finally:\n",
    "    #closing database connection.\n",
    "    if(connection):\n",
    "        cursor.close()\n",
    "        connection.close()\n",
    "        print(\"PostgreSQL connection is closed\")"
   ]
  },
  {
   "cell_type": "code",
   "execution_count": 49,
   "metadata": {},
   "outputs": [
    {
     "name": "stdout",
     "output_type": "stream",
     "text": [
      "[]\n"
     ]
    }
   ],
   "source": [
    "print(records)"
   ]
  },
  {
   "cell_type": "code",
   "execution_count": null,
   "metadata": {},
   "outputs": [],
   "source": []
  }
 ],
 "metadata": {
  "kernelspec": {
   "display_name": "Python 3",
   "language": "python",
   "name": "python3"
  },
  "language_info": {
   "codemirror_mode": {
    "name": "ipython",
    "version": 3
   },
   "file_extension": ".py",
   "mimetype": "text/x-python",
   "name": "python",
   "nbconvert_exporter": "python",
   "pygments_lexer": "ipython3",
   "version": "3.7.5"
  }
 },
 "nbformat": 4,
 "nbformat_minor": 2
}
