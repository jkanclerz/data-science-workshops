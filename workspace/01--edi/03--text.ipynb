{
 "cells": [
  {
   "cell_type": "code",
   "execution_count": null,
   "metadata": {},
   "outputs": [],
   "source": [
    "!pip install ipython_memory_usage pytz"
   ]
  },
  {
   "cell_type": "code",
   "execution_count": null,
   "metadata": {},
   "outputs": [],
   "source": [
    "!wget https://s3.eu-central-1.amazonaws.com/jkan.pl/data-science/uek/wykop--sample.txt\n",
    "        "
   ]
  },
  {
   "cell_type": "code",
   "execution_count": null,
   "metadata": {},
   "outputs": [],
   "source": [
    "!wget https://s3.eu-central-1.amazonaws.com/jkan.pl/data-science/uek/wykop.txt"
   ]
  },
  {
   "cell_type": "code",
   "execution_count": null,
   "metadata": {},
   "outputs": [],
   "source": [
    "import ipython_memory_usage \n",
    "%ipython_memory_usage_start "
   ]
  },
  {
   "cell_type": "code",
   "execution_count": null,
   "metadata": {},
   "outputs": [],
   "source": [
    "from datetime import datetime\n",
    "\n",
    "date_obj = datetime.fromisoformat('2019-11-16T09:03:01+01:00')\n",
    "assert str(date_obj.date()) == '2019-11-16'\n",
    "date_obj"
   ]
  },
  {
   "cell_type": "code",
   "execution_count": null,
   "metadata": {},
   "outputs": [],
   "source": [
    "from collections import namedtuple\n",
    "Wykop = namedtuple('Wykop', ['date', 'title', 'tags'])\n",
    "def parse_wykop_row(row):\n",
    "    try:\n",
    "        return Wykop(datetime.fromisoformat(row[0]), row[2], row[1].split('||'))\n",
    "    except ValueError:\n",
    "        return None"
   ]
  },
  {
   "cell_type": "code",
   "execution_count": null,
   "metadata": {},
   "outputs": [],
   "source": [
    "import functools\n",
    "import pytz\n",
    "import itertools\n",
    "from collections import Counter\n",
    "from pprint import pprint as pp\n",
    "\n",
    "with open('wykop--sample.txt', 'r') as f:\n",
    "    wykops = (row.split(\"\\t\") for row in f.readlines())\n",
    "    wykop_objects = (parse_wykop_row(row) for row in wykops)\n",
    "    wykop_objects = (wykop for wykop in wykop_objects if wykop is not None)\n",
    "    just_november = (wykop for wykop in wykop_objects if (wykop.date >= datetime(2019, 11, 1, tzinfo=pytz.timezone('UTC'))))\n",
    "    just_november = (wykop for wykop in wykop_objects if (wykop.date <= datetime(2019, 11, 30, tzinfo=pytz.timezone('UTC'))))\n",
    "    topics = map(lambda x: x.tags, just_november)\n",
    "    all_together = itertools.chain.from_iterable(topics)\n",
    "\n",
    "    cnt = Counter()\n",
    "    for topic in all_together:\n",
    "        cnt[topic] += 1"
   ]
  },
  {
   "cell_type": "code",
   "execution_count": null,
   "metadata": {},
   "outputs": [],
   "source": [
    "sorted(cnt.items(), key=lambda pair: pair[1], reverse=True)\n",
    "cnt.most_common(10)"
   ]
  },
  {
   "cell_type": "code",
   "execution_count": null,
   "metadata": {},
   "outputs": [],
   "source": [
    "%ipython_memory_usage_stop"
   ]
  },
  {
   "cell_type": "code",
   "execution_count": null,
   "metadata": {},
   "outputs": [],
   "source": [
    "import functools\n",
    "import pytz\n",
    "import itertools\n",
    "from collections import Counter\n",
    "\n",
    "with open('wykop.txt', 'r') as f:\n",
    "    wykops = [row.split(\"\\t\") for row in f.readlines()]\n",
    "    wykop_objects = [parse_wykop_row(row) for row in wykops]\n",
    "    wykop_objects = [wykop for wykop in wykop_objects if wykop is not None]\n",
    "    topics = list(map(lambda x: x.tags, wykop_objects))\n",
    "    all_together = list(itertools.chain.from_iterable(topics))\n",
    "\n",
    "    cnt = Counter()\n",
    "    for topic in all_together:\n",
    "        cnt[topic] += 1"
   ]
  },
  {
   "cell_type": "code",
   "execution_count": null,
   "metadata": {},
   "outputs": [],
   "source": [
    "cnt.most_common()"
   ]
  },
  {
   "cell_type": "code",
   "execution_count": null,
   "metadata": {},
   "outputs": [],
   "source": []
  },
  {
   "cell_type": "code",
   "execution_count": null,
   "metadata": {},
   "outputs": [],
   "source": []
  }
 ],
 "metadata": {
  "kernelspec": {
   "display_name": "Python 3",
   "language": "python",
   "name": "python3"
  },
  "language_info": {
   "codemirror_mode": {
    "name": "ipython",
    "version": 3
   },
   "file_extension": ".py",
   "mimetype": "text/x-python",
   "name": "python",
   "nbconvert_exporter": "python",
   "pygments_lexer": "ipython3",
   "version": "3.7.5"
  }
 },
 "nbformat": 4,
 "nbformat_minor": 2
}
