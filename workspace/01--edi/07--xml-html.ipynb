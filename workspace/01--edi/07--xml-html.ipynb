{
 "cells": [
  {
   "cell_type": "markdown",
   "metadata": {},
   "source": [
    "More complex format\n",
    "===================\n",
    "\n",
    "* xml\n",
    "* html\n",
    "\n",
    "XML\n",
    "===\n",
    "    * data transfer\n",
    "    * nested elements\n",
    "    * document validation\n",
    "    * parsers in most languages\n",
    "    * focus on bussines\n",
    "    * \n",
    "\n",
    "```xml\n",
    "<article>\n",
    "    <info>\n",
    "        <title>Some title</title>\n",
    "        <authors>\n",
    "            <author>\n",
    "                <firstname>Jakub</firstname>\n",
    "                <lastname>Kanclerz</lastname>\n",
    "            </author>\n",
    "        </authors>\n",
    "    </info>\n",
    "    <content>\n",
    "        <section type=\"header\">\n",
    "            <paragraph>\n",
    "                some title\n",
    "            </paragraph>\n",
    "        </section>\n",
    "        <section type=\"main\">\n",
    "            <paragraph>\n",
    "                some content\n",
    "            </paragraph>\n",
    "            <image src=\"image/src.jpeg\"/>\n",
    "        </section>\n",
    "    </content>\n",
    "</article>\n",
    "```\n",
    "\n",
    "Html\n",
    "====\n",
    "\n",
    "```html\n",
    "<li class=\"link\">\n",
    "    <div class=\"article\" data-id=\"4789115\">\n",
    "        <a href=\"#4789115\">\n",
    "            <span>85</span>\n",
    "            <span class=\"button button submit\">wykop</span>\n",
    "        </a>\n",
    "    </div>\n",
    "\n",
    "    <div class=\"media-content m-reset-float \">\n",
    "        <a href=\"https://www.wykop.pl/link/4789115/w-jaki-sposob-facebook-stal-sie-lewicowa-sekta-opowiesc-pracownika-firmy/\">\n",
    "            <img src=\"https://www.wykop.pl/cdn/c3397993/link_MwUxfsmJdpfvuiy0ICl1l0Yw35VeWgBc,w207h139.jpg\" alt=\"W jaki sposób Facebook stał się lewicową sektą? Opowieść pracownika firmy.\">\n",
    "        </a>\n",
    "    </div>\n",
    "    <div class=\"lcontrast m-reset-margin\">\n",
    "        <h2>\n",
    "            <a href=\"https://www.wykop.pl/link/4789115/w-jaki-sposob-facebook-stal-sie-lewicowa-sekta-opowiesc-pracownika-firmy/\"\n",
    "                rel=\"nofollow noopener noreferrer\" title=\"W jaki sposób Facebook stał się lewicową sektą? Opowieść pracownika firmy.\">W\n",
    "                jaki sposób Facebook stał się lewicową sektą? Opowieść pracownika firmy.</a>\n",
    "        </h2>\n",
    "\n",
    "\n",
    "        <div class=\"description\">\n",
    "            <p class=\"text\">\n",
    "                <a href=\"https://www.wykop.pl/link/4789115/w-jaki-sposob-facebook-stal-sie-lewicowa-sekta-opowiesc-pracownika-firmy/\"\n",
    "                    title=\"\">\n",
    "                    Tragiczna relacja pracownika, który przez lata obserwował jak serwis promujący wolność słowa\n",
    "                    zamienił się w ideologiczny rynsztok prześladujący pracowników o zróżnicowanym światopoglądzie.\n",
    "                </a>\n",
    "            </p>\n",
    "        </div>\n",
    "    </div>\n",
    "</li>\n",
    "```"
   ]
  },
  {
   "cell_type": "code",
   "execution_count": 1,
   "metadata": {},
   "outputs": [
    {
     "name": "stdout",
     "output_type": "stream",
     "text": [
      "Collecting bs4\n",
      "  Downloading https://files.pythonhosted.org/packages/10/ed/7e8b97591f6f456174139ec089c769f89a94a1a4025fe967691de971f314/bs4-0.0.1.tar.gz\n",
      "Collecting beautifulsoup4\n",
      "\u001b[?25l  Downloading https://files.pythonhosted.org/packages/cb/a1/c698cf319e9cfed6b17376281bd0efc6bfc8465698f54170ef60a485ab5d/beautifulsoup4-4.8.2-py3-none-any.whl (106kB)\n",
      "\u001b[K     |████████████████████████████████| 112kB 661kB/s eta 0:00:01\n",
      "\u001b[?25hCollecting soupsieve>=1.2\n",
      "  Downloading https://files.pythonhosted.org/packages/81/94/03c0f04471fc245d08d0a99f7946ac228ca98da4fa75796c507f61e688c2/soupsieve-1.9.5-py2.py3-none-any.whl\n",
      "Installing collected packages: soupsieve, beautifulsoup4, bs4\n",
      "    Running setup.py install for bs4 ... \u001b[?25ldone\n",
      "\u001b[?25hSuccessfully installed beautifulsoup4-4.8.2 bs4-0.0.1 soupsieve-1.9.5\n",
      "\u001b[33mWARNING: You are using pip version 19.3.1; however, version 20.0.2 is available.\n",
      "You should consider upgrading via the 'pip install --upgrade pip' command.\u001b[0m\n"
     ]
    }
   ],
   "source": [
    "!pip install bs4"
   ]
  },
  {
   "cell_type": "code",
   "execution_count": 8,
   "metadata": {},
   "outputs": [],
   "source": [
    "sample_xml = '''\n",
    "<article>\n",
    "    <info>\n",
    "        <title>Some title</title>\n",
    "        <authors>\n",
    "            <author>\n",
    "                <firstname>Jakub</firstname>\n",
    "                <lastname>Kanclerz</lastname>\n",
    "            </author>\n",
    "        </authors>\n",
    "    </info>\n",
    "    <content>\n",
    "        <section type=\"header\">\n",
    "            <paragraph>\n",
    "                some title\n",
    "            </paragraph>\n",
    "        </section>\n",
    "        <section type=\"main\">\n",
    "            <paragraph>\n",
    "                some content\n",
    "            </paragraph>\n",
    "            <image src=\"image/src.jpeg\"/>\n",
    "        </section>\n",
    "    </content>\n",
    "</article>\n",
    "'''"
   ]
  },
  {
   "cell_type": "code",
   "execution_count": 9,
   "metadata": {},
   "outputs": [],
   "source": [
    "import requests\n",
    "from bs4 import BeautifulSoup as bs\n",
    "from itertools import chain"
   ]
  },
  {
   "cell_type": "code",
   "execution_count": 15,
   "metadata": {},
   "outputs": [
    {
     "name": "stdout",
     "output_type": "stream",
     "text": [
      "Collecting lxml\n",
      "  Using cached https://files.pythonhosted.org/packages/39/2b/0a66d5436f237aff76b91e68b4d8c041d145ad0a2cdeefe2c42f76ba2857/lxml-4.5.0.tar.gz\n",
      "Installing collected packages: lxml\n",
      "    Running setup.py install for lxml ... \u001b[?25ldone\n",
      "\u001b[?25hSuccessfully installed lxml-4.5.0\n",
      "\u001b[33mWARNING: You are using pip version 19.3.1; however, version 20.0.2 is available.\n",
      "You should consider upgrading via the 'pip install --upgrade pip' command.\u001b[0m\n"
     ]
    }
   ],
   "source": [
    "!pip install lxml"
   ]
  },
  {
   "cell_type": "code",
   "execution_count": 16,
   "metadata": {},
   "outputs": [
    {
     "ename": "FeatureNotFound",
     "evalue": "Couldn't find a tree builder with the features you requested: lxml. Do you need to install a parser library?",
     "output_type": "error",
     "traceback": [
      "\u001b[0;31m---------------------------------------------------------------------------\u001b[0m",
      "\u001b[0;31mFeatureNotFound\u001b[0m                           Traceback (most recent call last)",
      "\u001b[0;32m<ipython-input-16-9c24afe69eef>\u001b[0m in \u001b[0;36m<module>\u001b[0;34m\u001b[0m\n\u001b[0;32m----> 1\u001b[0;31m \u001b[0mloaded\u001b[0m \u001b[0;34m=\u001b[0m \u001b[0mbs\u001b[0m\u001b[0;34m(\u001b[0m\u001b[0msample_xml\u001b[0m\u001b[0;34m,\u001b[0m \u001b[0;34m'lxml'\u001b[0m\u001b[0;34m)\u001b[0m\u001b[0;34m\u001b[0m\u001b[0;34m\u001b[0m\u001b[0m\n\u001b[0m",
      "\u001b[0;32m~/workspace/.venv/lib/python3.7/site-packages/bs4/__init__.py\u001b[0m in \u001b[0;36m__init__\u001b[0;34m(self, markup, features, builder, parse_only, from_encoding, exclude_encodings, element_classes, **kwargs)\u001b[0m\n\u001b[1;32m    226\u001b[0m                     \u001b[0;34m\"Couldn't find a tree builder with the features you \"\u001b[0m\u001b[0;34m\u001b[0m\u001b[0;34m\u001b[0m\u001b[0m\n\u001b[1;32m    227\u001b[0m                     \u001b[0;34m\"requested: %s. Do you need to install a parser library?\"\u001b[0m\u001b[0;34m\u001b[0m\u001b[0;34m\u001b[0m\u001b[0m\n\u001b[0;32m--> 228\u001b[0;31m                     % \",\".join(features))\n\u001b[0m\u001b[1;32m    229\u001b[0m \u001b[0;34m\u001b[0m\u001b[0m\n\u001b[1;32m    230\u001b[0m         \u001b[0;31m# At this point either we have a TreeBuilder instance in\u001b[0m\u001b[0;34m\u001b[0m\u001b[0;34m\u001b[0m\u001b[0;34m\u001b[0m\u001b[0m\n",
      "\u001b[0;31mFeatureNotFound\u001b[0m: Couldn't find a tree builder with the features you requested: lxml. Do you need to install a parser library?"
     ]
    }
   ],
   "source": [
    "loaded = bs(sample_xml, 'lxml')"
   ]
  },
  {
   "cell_type": "code",
   "execution_count": 3,
   "metadata": {},
   "outputs": [],
   "source": [
    "urls = [\n",
    "    \"https://www.wykop.pl/strona/{}\".format(page)\n",
    "    for page in range(1, 10, 1)\n",
    "]"
   ]
  },
  {
   "cell_type": "code",
   "execution_count": 4,
   "metadata": {},
   "outputs": [],
   "source": [
    "import collections\n",
    "from pprint import pprint as pp\n",
    "\n",
    "Wykop = collections.namedtuple('Wykop', ['count', 'title', 'description', 'tags'])\n",
    "\n",
    "def clear_text(text):\n",
    "    return text.rstrip().replace(\"\\n\", '').replace(\"\\t\", '')\n",
    "\n",
    "def grab_wykop_item_data(element):\n",
    "    try:\n",
    "        tags = map(lambda x: x.text, element.select('.article>div a.tag'))\n",
    "        tags = filter(lambda x: x.startswith('#'), tags)\n",
    "        \n",
    "        return Wykop(\n",
    "            int(element.select('.article>div a>span:first-child')[0].text),\n",
    "            element.select('.article>div h2 a')[0]['title'],\n",
    "            clear_text(element.select('.article>div .description')[0].text),\n",
    "            list(tags))\n",
    "    except Exception as e:\n",
    "        return None"
   ]
  },
  {
   "cell_type": "code",
   "execution_count": 5,
   "metadata": {},
   "outputs": [],
   "source": [
    "pages = (requests.get(url) for url in urls)\n",
    "contents = (page.content for page in pages)\n",
    "soups = (bs(content, 'html.parser') for content in contents)\n",
    "lists_of_items = (soup.select('#itemsStream li.iC') for soup in soups)\n",
    "all_items_together = chain.from_iterable(lists_of_items)\n",
    "extracted = (grab_wykop_item_data(item) for item in all_items_together)\n",
    "valid = (wykop for wykop in extracted if wykop is not None)"
   ]
  },
  {
   "cell_type": "code",
   "execution_count": null,
   "metadata": {},
   "outputs": [],
   "source": []
  },
  {
   "cell_type": "code",
   "execution_count": 6,
   "metadata": {},
   "outputs": [],
   "source": [
    "import itertools\n",
    "first5 = [next(valid) for x in range(4)]"
   ]
  },
  {
   "cell_type": "code",
   "execution_count": 7,
   "metadata": {},
   "outputs": [
    {
     "data": {
      "text/plain": [
       "[Wykop(count=288, title='Rolnicy powracają do starej metody zwalczania szkodników przez sadzenie kwiatów', description='...zamiast używania chemikaliów. Użycie pestycydów okazuje się mieć negatywny wpływ na środowisko. Wielu rolników powraca więc obecnie do starożytnych, przyjaznych dla środowiska metod', tags=['#rolnictwo', '#ekologia', '#srodowisko', '#natura', '#zdrowie', '#polska']),\n",
       " Wykop(count=240, title='Specjalny szpital w Wuhan już na ukończeniu! Mają rozmach...', description='Video z dzisiaj. Najbardziej aktualne jakie udało mi się znaleźć. Mimo że jest to tymczasowa budowla to tempo prac i skala projektu naprawdę robią wrażenie. Przewidywane otwarcie placówki 3.02.2020.', tags=['#swiat', '#ciekawostki', '#chiny', '#koronawirus', '#budownictwo', '#wuhan']),\n",
       " Wykop(count=934, title='Kushner: Palestyńczycy nie potrafili nic zrobić ze swoją żałosną egzystencją', description='Tak przedstawiciel \"rasy panów\" i autor planu kolejnego rozbioru Palestyny ubliża ofiarom zbrodni Izraela.', tags=['#swiat', '#4konserwy', '#izrael', '#zydzi', '#palestyna']),\n",
       " Wykop(count=851, title='Galeria Krosno', description='Biżuteria to znakomity pomysł na prezent Walentynki tuż, tuż Witek już wybrał‼ Teraz kolej na Ciebie‼  Świat Upominków Silver Art zaprasza‼', tags=['#polska', '#panwitek', '#zakupy', '#galeriakrosno', '#krosno', '#humorobrazkowy'])]"
      ]
     },
     "execution_count": 7,
     "metadata": {},
     "output_type": "execute_result"
    }
   ],
   "source": [
    "list(first5)"
   ]
  },
  {
   "cell_type": "code",
   "execution_count": 206,
   "metadata": {},
   "outputs": [],
   "source": [
    "tags = (wykop.tags for wykop in first5)"
   ]
  },
  {
   "cell_type": "code",
   "execution_count": 207,
   "metadata": {},
   "outputs": [],
   "source": [
    "all_tags = list(chain.from_iterable(tags))"
   ]
  },
  {
   "cell_type": "code",
   "execution_count": 208,
   "metadata": {},
   "outputs": [],
   "source": [
    "counter = {}\n",
    "\n",
    "for tag in all_tags:\n",
    "    if tag not in counter.keys():\n",
    "        counter[tag] = 1\n",
    "    else:\n",
    "        counter[tag] = counter[tag] + 1"
   ]
  },
  {
   "cell_type": "code",
   "execution_count": 209,
   "metadata": {},
   "outputs": [
    {
     "data": {
      "text/plain": [
       "{'#swiat': 1,\n",
       " '#technologia': 2,\n",
       " '#facebook': 1,\n",
       " '#wojnaidei': 1,\n",
       " '#wojnainformacyjna': 1,\n",
       " '#kultura': 1,\n",
       " '#polska': 3,\n",
       " '#drony': 1,\n",
       " '#dron': 1,\n",
       " '#heheszki': 1,\n",
       " '#gdansk': 1,\n",
       " '#trojmiasto': 1,\n",
       " '#kradziez': 1,\n",
       " '#policja': 2,\n",
       " '#poznan': 1,\n",
       " '#moto': 1,\n",
       " '#drogowka': 1}"
      ]
     },
     "execution_count": 209,
     "metadata": {},
     "output_type": "execute_result"
    }
   ],
   "source": [
    "counter"
   ]
  },
  {
   "cell_type": "code",
   "execution_count": 210,
   "metadata": {},
   "outputs": [
    {
     "data": {
      "text/plain": [
       "[('#polska', 3),\n",
       " ('#policja', 2),\n",
       " ('#technologia', 2),\n",
       " ('#drogowka', 1),\n",
       " ('#moto', 1),\n",
       " ('#poznan', 1),\n",
       " ('#kradziez', 1),\n",
       " ('#trojmiasto', 1),\n",
       " ('#gdansk', 1),\n",
       " ('#heheszki', 1),\n",
       " ('#dron', 1),\n",
       " ('#drony', 1),\n",
       " ('#kultura', 1),\n",
       " ('#wojnainformacyjna', 1),\n",
       " ('#wojnaidei', 1),\n",
       " ('#facebook', 1),\n",
       " ('#swiat', 1)]"
      ]
     },
     "execution_count": 210,
     "metadata": {},
     "output_type": "execute_result"
    }
   ],
   "source": [
    "import operator\n",
    "list(reversed(sorted(counter.items(), key=lambda item: item[1])))"
   ]
  },
  {
   "cell_type": "code",
   "execution_count": 217,
   "metadata": {},
   "outputs": [
    {
     "data": {
      "text/plain": [
       "[('#polska', 3),\n",
       " ('#technologia', 2),\n",
       " ('#policja', 2),\n",
       " ('#swiat', 1),\n",
       " ('#facebook', 1),\n",
       " ('#wojnaidei', 1),\n",
       " ('#wojnainformacyjna', 1),\n",
       " ('#kultura', 1),\n",
       " ('#drony', 1),\n",
       " ('#dron', 1),\n",
       " ('#heheszki', 1),\n",
       " ('#gdansk', 1),\n",
       " ('#trojmiasto', 1),\n",
       " ('#kradziez', 1),\n",
       " ('#poznan', 1),\n",
       " ('#moto', 1),\n",
       " ('#drogowka', 1)]"
      ]
     },
     "execution_count": 217,
     "metadata": {},
     "output_type": "execute_result"
    }
   ],
   "source": [
    "from collections import Counter\n",
    "c = Counter(all_tags)\n",
    "c.most_common()"
   ]
  },
  {
   "cell_type": "markdown",
   "metadata": {},
   "source": [
    "persistance\n",
    "-------------"
   ]
  },
  {
   "cell_type": "code",
   "execution_count": 221,
   "metadata": {},
   "outputs": [],
   "source": [
    "import csv\n",
    "with open('wykop.csv', 'w') as destination_file:\n",
    "    writer = csv.writer(destination_file, delimiter=';', quotechar='\"')\n",
    "    for row in first5:\n",
    "        writer.writerow(row)"
   ]
  },
  {
   "cell_type": "code",
   "execution_count": 226,
   "metadata": {},
   "outputs": [],
   "source": [
    "import json\n",
    "with open('wykop.data', 'w') as destination_file:\n",
    "    for row in first5:\n",
    "        destination_file.write(json.dumps(row._asdict()) + \"\\n\")"
   ]
  },
  {
   "cell_type": "code",
   "execution_count": null,
   "metadata": {},
   "outputs": [],
   "source": []
  }
 ],
 "metadata": {
  "kernelspec": {
   "display_name": "Python 3",
   "language": "python",
   "name": "python3"
  },
  "language_info": {
   "codemirror_mode": {
    "name": "ipython",
    "version": 3
   },
   "file_extension": ".py",
   "mimetype": "text/x-python",
   "name": "python",
   "nbconvert_exporter": "python",
   "pygments_lexer": "ipython3",
   "version": "3.7.5"
  }
 },
 "nbformat": 4,
 "nbformat_minor": 2
}
