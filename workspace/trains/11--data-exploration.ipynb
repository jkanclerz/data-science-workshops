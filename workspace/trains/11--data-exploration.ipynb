{
 "cells": [
  {
   "cell_type": "code",
   "execution_count": 1,
   "metadata": {},
   "outputs": [
    {
     "name": "stdout",
     "output_type": "stream",
     "text": [
      "--2020-02-14 20:43:27--  http://ipa.lovethosetrains.com/ipa_17_18.7z\n",
      "Resolving ipa.lovethosetrains.com... 51.255.167.155\n",
      "Connecting to ipa.lovethosetrains.com|51.255.167.155|:80... connected.\n",
      "HTTP request sent, awaiting response... 200 OK\n",
      "Length: 152896489 (146M) [application/x-7z-compressed]\n",
      "Saving to: 'ipa_17_18.7z.1'\n",
      "\n",
      "ipa_17_18.7z.1      100%[===================>] 145.81M  3.29MB/s    in 63s     \n",
      "\n",
      "2020-02-14 20:44:30 (2.33 MB/s) - 'ipa_17_18.7z.1' saved [152896489/152896489]\n",
      "\n"
     ]
    }
   ],
   "source": [
    "!wget http://ipa.lovethosetrains.com/ipa_17_18.7z"
   ]
  },
  {
   "cell_type": "code",
   "execution_count": null,
   "metadata": {},
   "outputs": [],
   "source": []
  },
  {
   "cell_type": "code",
   "execution_count": 6,
   "metadata": {},
   "outputs": [],
   "source": [
    "from pyspark import SparkConf, SparkContext\n",
    "from pyspark.sql import SparkSession\n",
    "import os\n",
    "\n",
    "spark = SparkSession.builder \\\n",
    "    .master(\"local\") \\\n",
    "    .appName(\"Test it 2\") \\\n",
    "    .getOrCreate()\n",
    "sc = spark.sparkContext"
   ]
  },
  {
   "cell_type": "code",
   "execution_count": 16,
   "metadata": {},
   "outputs": [],
   "source": [
    "from pyspark.sql import types"
   ]
  },
  {
   "cell_type": "code",
   "execution_count": 20,
   "metadata": {},
   "outputs": [],
   "source": [
    "types.StructType?"
   ]
  },
  {
   "cell_type": "code",
   "execution_count": 28,
   "metadata": {},
   "outputs": [],
   "source": [
    "from pyspark.sql import types\n",
    "from pyspark.sql.types import StructType, LongType, StructField, TimestampType"
   ]
  },
  {
   "cell_type": "code",
   "execution_count": 29,
   "metadata": {},
   "outputs": [],
   "source": [
    "StructField?"
   ]
  },
  {
   "cell_type": "code",
   "execution_count": 34,
   "metadata": {},
   "outputs": [],
   "source": [
    "from pyspark.sql import types\n",
    "from pyspark.sql.types import StructType, LongType, StructField, TimestampType, StringType\n",
    "\n",
    "# root\n",
    "#  |-- train_id: long (nullable = true)\n",
    "#  |-- train_name: string (nullable = true)\n",
    "#  |-- schedule_date: timestamp (nullable = true)\n",
    "#  |-- schedule_id: long (nullable = true)\n",
    "#  |-- arrival_delay: long (nullable = true)\n",
    "#  |-- arrival_time: timestamp (nullable = true)\n",
    "#  |-- departure_delay: long (nullable = true)\n",
    "#  |-- departure_time: timestamp (nullable = true)\n",
    "#  |-- station_name: string (nullable = true)\n",
    "\n",
    "schema = StructType([\n",
    "        StructField('train_id', LongType()),\n",
    "        StructField('train_name', StringType()),\n",
    "        StructField('schedule_date', TimestampType()),\n",
    "        StructField('schedule_id', LongType()),\n",
    "        StructField('arrival_delay', LongType()),\n",
    "        StructField('arrival_time', TimestampType()),\n",
    "        StructField('departure_delay', LongType()),\n",
    "        StructField('departure_time', TimestampType()),\n",
    "        StructField('station_name', StringType())\n",
    "])\n",
    "    \n",
    "trains = spark.read.format(\"csv\")\\\n",
    "        .schema(schema)\\\n",
    "        .option(\"inferSchema\", \"true\")\\\n",
    "        .load(\"trains_sample.csv\")"
   ]
  },
  {
   "cell_type": "code",
   "execution_count": 35,
   "metadata": {},
   "outputs": [
    {
     "name": "stdout",
     "output_type": "stream",
     "text": [
      "root\n",
      " |-- train_id: long (nullable = true)\n",
      " |-- train_name: string (nullable = true)\n",
      " |-- schedule_date: timestamp (nullable = true)\n",
      " |-- schedule_id: long (nullable = true)\n",
      " |-- arrival_delay: long (nullable = true)\n",
      " |-- arrival_time: timestamp (nullable = true)\n",
      " |-- departure_delay: long (nullable = true)\n",
      " |-- departure_time: timestamp (nullable = true)\n",
      " |-- station_name: string (nullable = true)\n",
      "\n"
     ]
    }
   ],
   "source": [
    "trains.printSchema()"
   ]
  },
  {
   "cell_type": "code",
   "execution_count": 36,
   "metadata": {},
   "outputs": [],
   "source": [
    "from pyspark.sql import SQLContext\n",
    "sqlContext = SQLContext(sc)\n"
   ]
  },
  {
   "cell_type": "code",
   "execution_count": 38,
   "metadata": {},
   "outputs": [],
   "source": [
    "trains.registerTempTable(\"trains\")"
   ]
  },
  {
   "cell_type": "code",
   "execution_count": 39,
   "metadata": {},
   "outputs": [
    {
     "name": "stdout",
     "output_type": "stream",
     "text": [
      "+--------+------------------+-------------------+-----------+-------------+-------------------+---------------+-------------------+--------------------+\n",
      "|train_id|        train_name|      schedule_date|schedule_id|arrival_delay|       arrival_time|departure_delay|     departure_time|        station_name|\n",
      "+--------+------------------+-------------------+-----------+-------------+-------------------+---------------+-------------------+--------------------+\n",
      "|     159|67900/1 KAMIEŃCZYK|2018-12-08 00:00:00|   53466607|         null|               null|              0|2018-12-08 13:17:00|Szklarska Poręba ...|\n",
      "|     159|67900/1 KAMIEŃCZYK|2018-12-08 00:00:00|   53466607|            0|2018-12-08 13:21:00|              0|2018-12-08 13:21:30|Szklarska Poręba ...|\n",
      "|     159|67900/1 KAMIEŃCZYK|2018-12-08 00:00:00|   53466607|            0|2018-12-08 13:27:00|              0|2018-12-08 13:27:30|Szklarska Poręba ...|\n",
      "|     159|67900/1 KAMIEŃCZYK|2018-12-08 00:00:00|   53466607|            0|2018-12-08 13:40:30|              0|2018-12-08 13:46:30|          Piechowice|\n",
      "|     159|67900/1 KAMIEŃCZYK|2018-12-08 00:00:00|   53466607|            0|2018-12-08 13:52:00|              0|2018-12-08 13:52:30|Jelenia Góra Sobi...|\n",
      "+--------+------------------+-------------------+-----------+-------------+-------------------+---------------+-------------------+--------------------+\n",
      "\n"
     ]
    }
   ],
   "source": [
    "sqlContext.sql(\"\"\"\n",
    "    Select * from trains LIMIT 5\n",
    "\"\"\").show()"
   ]
  },
  {
   "cell_type": "markdown",
   "metadata": {},
   "source": [
    "## Czy w weekendy pociągi sppózniaja sie bardziej?"
   ]
  },
  {
   "cell_type": "code",
   "execution_count": 40,
   "metadata": {},
   "outputs": [],
   "source": [
    "from pyspark.sql.functions import *"
   ]
  },
  {
   "cell_type": "code",
   "execution_count": 58,
   "metadata": {},
   "outputs": [],
   "source": [
    "DELAY_BY_DAY = trains\\\n",
    "    .select(\n",
    "        month(col('arrival_time')).alias('month'),\n",
    "        dayofweek(col('arrival_time')).alias('day'),\n",
    "        col('arrival_delay').alias('avg_delay'),\n",
    "    )\\\n",
    "    .filter(col('day').isNotNull())\\\n",
    "    .groupBy(col('day'))\\\n",
    "    .avg() \\\n",
    "    .sort(col('day').asc())"
   ]
  },
  {
   "cell_type": "code",
   "execution_count": 59,
   "metadata": {},
   "outputs": [
    {
     "name": "stdout",
     "output_type": "stream",
     "text": [
      "+---+------------------+--------+------------------+\n",
      "|day|        avg(month)|avg(day)|    avg(avg_delay)|\n",
      "+---+------------------+--------+------------------+\n",
      "|  1|6.4523201750387456|     1.0|3.5273498039930713|\n",
      "|  2| 6.325463668130096|     2.0| 4.207060299256339|\n",
      "|  3|6.3998843879229845|     3.0| 5.229312108141758|\n",
      "|  4| 6.411576704545454|     4.0|4.8405539772727275|\n",
      "|  5| 6.451109646231598|     5.0| 5.362030323005933|\n",
      "|  6| 6.495125071690122|     6.0| 4.239158247672829|\n",
      "|  7| 6.550279329608938|     7.0| 4.122392923649907|\n",
      "+---+------------------+--------+------------------+\n",
      "\n"
     ]
    }
   ],
   "source": [
    "DELAY_BY_DAY.show()"
   ]
  },
  {
   "cell_type": "code",
   "execution_count": 72,
   "metadata": {},
   "outputs": [],
   "source": [
    "plt_data = DELAY_BY_DAY.toPandas()\n",
    "plt_data.index = plt_data['day']\n",
    "plt_data = plt_data[['day','avg(avg_delay)']]"
   ]
  },
  {
   "cell_type": "code",
   "execution_count": 73,
   "metadata": {},
   "outputs": [
    {
     "data": {
      "text/html": [
       "<div>\n",
       "<style scoped>\n",
       "    .dataframe tbody tr th:only-of-type {\n",
       "        vertical-align: middle;\n",
       "    }\n",
       "\n",
       "    .dataframe tbody tr th {\n",
       "        vertical-align: top;\n",
       "    }\n",
       "\n",
       "    .dataframe thead th {\n",
       "        text-align: right;\n",
       "    }\n",
       "</style>\n",
       "<table border=\"1\" class=\"dataframe\">\n",
       "  <thead>\n",
       "    <tr style=\"text-align: right;\">\n",
       "      <th></th>\n",
       "      <th>day</th>\n",
       "      <th>avg(avg_delay)</th>\n",
       "    </tr>\n",
       "  </thead>\n",
       "  <tbody>\n",
       "    <tr>\n",
       "      <th>count</th>\n",
       "      <td>7.000000</td>\n",
       "      <td>7.000000</td>\n",
       "    </tr>\n",
       "    <tr>\n",
       "      <th>mean</th>\n",
       "      <td>4.000000</td>\n",
       "      <td>4.503980</td>\n",
       "    </tr>\n",
       "    <tr>\n",
       "      <th>std</th>\n",
       "      <td>2.160247</td>\n",
       "      <td>0.662489</td>\n",
       "    </tr>\n",
       "    <tr>\n",
       "      <th>min</th>\n",
       "      <td>1.000000</td>\n",
       "      <td>3.527350</td>\n",
       "    </tr>\n",
       "    <tr>\n",
       "      <th>25%</th>\n",
       "      <td>2.500000</td>\n",
       "      <td>4.164727</td>\n",
       "    </tr>\n",
       "    <tr>\n",
       "      <th>50%</th>\n",
       "      <td>4.000000</td>\n",
       "      <td>4.239158</td>\n",
       "    </tr>\n",
       "    <tr>\n",
       "      <th>75%</th>\n",
       "      <td>5.500000</td>\n",
       "      <td>5.034933</td>\n",
       "    </tr>\n",
       "    <tr>\n",
       "      <th>max</th>\n",
       "      <td>7.000000</td>\n",
       "      <td>5.362030</td>\n",
       "    </tr>\n",
       "  </tbody>\n",
       "</table>\n",
       "</div>"
      ],
      "text/plain": [
       "            day  avg(avg_delay)\n",
       "count  7.000000        7.000000\n",
       "mean   4.000000        4.503980\n",
       "std    2.160247        0.662489\n",
       "min    1.000000        3.527350\n",
       "25%    2.500000        4.164727\n",
       "50%    4.000000        4.239158\n",
       "75%    5.500000        5.034933\n",
       "max    7.000000        5.362030"
      ]
     },
     "execution_count": 73,
     "metadata": {},
     "output_type": "execute_result"
    }
   ],
   "source": [
    "plt_data.describe()"
   ]
  },
  {
   "cell_type": "code",
   "execution_count": 75,
   "metadata": {},
   "outputs": [
    {
     "data": {
      "text/plain": [
       "<matplotlib.axes._subplots.AxesSubplot at 0x7fcc82ff1b90>"
      ]
     },
     "execution_count": 75,
     "metadata": {},
     "output_type": "execute_result"
    },
    {
     "data": {
      "image/png": "[encoded data removed]",
      "text/plain": [
       "<Figure size 432x288 with 1 Axes>"
      ]
     },
     "metadata": {
      "needs_background": "light"
     },
     "output_type": "display_data"
    }
   ],
   "source": [
    "plt_data.plot(kind='bar', x='day', title=\"Delay by day\")"
   ]
  },
  {
   "cell_type": "code",
   "execution_count": 79,
   "metadata": {},
   "outputs": [],
   "source": [
    "DELAY_BY_MONTH = trains\\\n",
    "    .select(\n",
    "        year(col('arrival_time')).alias('year'),\n",
    "        month(col('arrival_time')).alias('month'),\n",
    "        col('arrival_delay').alias('avg_delay'),\n",
    "    )\\\n",
    "    .groupBy(col('year'), col('month'))\\\n",
    "    .avg() \\\n",
    "    .dropna() \\\n",
    "    .sort(col('year').asc(), col('month').asc())"
   ]
  },
  {
   "cell_type": "code",
   "execution_count": 80,
   "metadata": {},
   "outputs": [
    {
     "name": "stdout",
     "output_type": "stream",
     "text": [
      "+----+-----+---------+----------+------------------+\n",
      "|year|month|avg(year)|avg(month)|    avg(avg_delay)|\n",
      "+----+-----+---------+----------+------------------+\n",
      "|2017|   12|   2017.0|      12.0| 4.460918443101071|\n",
      "|2018|    1|   2018.0|       1.0| 6.753192731518646|\n",
      "|2018|    2|   2018.0|       2.0| 4.799580442149427|\n",
      "|2018|    3|   2018.0|       3.0| 3.849883517763541|\n",
      "|2018|    4|   2018.0|       4.0| 3.431587585795285|\n",
      "|2018|    5|   2018.0|       5.0| 5.665816709164542|\n",
      "|2018|    6|   2018.0|       6.0| 5.333827893175074|\n",
      "|2018|    7|   2018.0|       7.0|2.7608613809201112|\n",
      "|2018|    8|   2018.0|       8.0|  6.28526573747894|\n",
      "|2018|    9|   2018.0|       9.0| 4.003141183462094|\n",
      "|2018|   10|   2018.0|      10.0|3.2482092805979446|\n",
      "|2018|   11|   2018.0|      11.0|3.7751004016064256|\n",
      "|2018|   12|   2018.0|      12.0| 3.257868899797863|\n",
      "+----+-----+---------+----------+------------------+\n",
      "\n"
     ]
    }
   ],
   "source": [
    "DELAY_BY_MONTH.show()"
   ]
  },
  {
   "cell_type": "code",
   "execution_count": null,
   "metadata": {},
   "outputs": [],
   "source": []
  },
  {
   "cell_type": "code",
   "execution_count": 83,
   "metadata": {},
   "outputs": [
    {
     "data": {
      "text/plain": [
       "<matplotlib.axes._subplots.AxesSubplot at 0x7fcc81e79290>"
      ]
     },
     "execution_count": 83,
     "metadata": {},
     "output_type": "execute_result"
    },
    {
     "data": {
      "image/png": "[encoded data removed]",
      "text/plain": [
       "<Figure size 432x288 with 1 Axes>"
      ]
     },
     "metadata": {
      "needs_background": "light"
     },
     "output_type": "display_data"
    }
   ],
   "source": [
    "plt_data = DELAY_BY_MONTH.toPandas()\n",
    "plt_data[['month', 'avg(avg_delay)']].plot(kind='bar', x='month', title=\"Delay by month\")"
   ]
  },
  {
   "cell_type": "markdown",
   "metadata": {},
   "source": [
    "## Czy jest jakiś czarny punk stacja??"
   ]
  },
  {
   "cell_type": "code",
   "execution_count": 85,
   "metadata": {},
   "outputs": [
    {
     "name": "stdout",
     "output_type": "stream",
     "text": [
      "+--------+------------------+-------------------+-----------+-------------+-------------------+---------------+-------------------+--------------------+\n",
      "|train_id|        train_name|      schedule_date|schedule_id|arrival_delay|       arrival_time|departure_delay|     departure_time|        station_name|\n",
      "+--------+------------------+-------------------+-----------+-------------+-------------------+---------------+-------------------+--------------------+\n",
      "|     159|67900/1 KAMIEŃCZYK|2018-12-08 00:00:00|   53466607|         null|               null|              0|2018-12-08 13:17:00|Szklarska Poręba ...|\n",
      "|     159|67900/1 KAMIEŃCZYK|2018-12-08 00:00:00|   53466607|            0|2018-12-08 13:21:00|              0|2018-12-08 13:21:30|Szklarska Poręba ...|\n",
      "+--------+------------------+-------------------+-----------+-------------+-------------------+---------------+-------------------+--------------------+\n",
      "\n"
     ]
    }
   ],
   "source": [
    "by_stations = sqlContext.sql(\"\"\"\n",
    "    Select * from trains LIMIT 2\n",
    "\"\"\").show()"
   ]
  },
  {
   "cell_type": "code",
   "execution_count": 91,
   "metadata": {},
   "outputs": [],
   "source": [
    "DELAY_BY_STATION = trains\\\n",
    "    .select(\n",
    "        col('station_name'),\n",
    "        col('arrival_delay').alias('avg_delay'),\n",
    "    )\\\n",
    "    .groupBy(col('station_name'))\\\n",
    "    .avg() \\\n",
    "    .dropna() \\\n",
    "    .sort(col('avg(avg_delay)').asc()) \\\n",
    "    .cache()"
   ]
  },
  {
   "cell_type": "code",
   "execution_count": 95,
   "metadata": {},
   "outputs": [],
   "source": [
    "DELAY_BY_STATION.createTempView('delay_by_station')"
   ]
  },
  {
   "cell_type": "code",
   "execution_count": 101,
   "metadata": {},
   "outputs": [],
   "source": [
    "by_stations = sqlContext.sql(\"\"\"\n",
    "    Select * from delay_by_station order by `avg(avg_delay)` DESC LIMIT 20\n",
    "\"\"\")"
   ]
  },
  {
   "cell_type": "code",
   "execution_count": 103,
   "metadata": {},
   "outputs": [
    {
     "data": {
      "text/html": [
       "<div>\n",
       "<style scoped>\n",
       "    .dataframe tbody tr th:only-of-type {\n",
       "        vertical-align: middle;\n",
       "    }\n",
       "\n",
       "    .dataframe tbody tr th {\n",
       "        vertical-align: top;\n",
       "    }\n",
       "\n",
       "    .dataframe thead th {\n",
       "        text-align: right;\n",
       "    }\n",
       "</style>\n",
       "<table border=\"1\" class=\"dataframe\">\n",
       "  <thead>\n",
       "    <tr style=\"text-align: right;\">\n",
       "      <th></th>\n",
       "      <th>station_name</th>\n",
       "      <th>avg(avg_delay)</th>\n",
       "    </tr>\n",
       "  </thead>\n",
       "  <tbody>\n",
       "    <tr>\n",
       "      <th>0</th>\n",
       "      <td>Rydzyna</td>\n",
       "      <td>11.367688</td>\n",
       "    </tr>\n",
       "    <tr>\n",
       "      <th>1</th>\n",
       "      <td>Kaczkowo</td>\n",
       "      <td>11.298050</td>\n",
       "    </tr>\n",
       "    <tr>\n",
       "      <th>2</th>\n",
       "      <td>Rawicz</td>\n",
       "      <td>11.058932</td>\n",
       "    </tr>\n",
       "    <tr>\n",
       "      <th>3</th>\n",
       "      <td>Bojanowo</td>\n",
       "      <td>10.360037</td>\n",
       "    </tr>\n",
       "    <tr>\n",
       "      <th>4</th>\n",
       "      <td>Garbce</td>\n",
       "      <td>10.217391</td>\n",
       "    </tr>\n",
       "    <tr>\n",
       "      <th>5</th>\n",
       "      <td>Skokowa</td>\n",
       "      <td>10.213628</td>\n",
       "    </tr>\n",
       "    <tr>\n",
       "      <th>6</th>\n",
       "      <td>Bardo Śląskie</td>\n",
       "      <td>10.094556</td>\n",
       "    </tr>\n",
       "    <tr>\n",
       "      <th>7</th>\n",
       "      <td>Ławica</td>\n",
       "      <td>9.988539</td>\n",
       "    </tr>\n",
       "    <tr>\n",
       "      <th>8</th>\n",
       "      <td>Osola</td>\n",
       "      <td>9.959484</td>\n",
       "    </tr>\n",
       "    <tr>\n",
       "      <th>9</th>\n",
       "      <td>Żmigród</td>\n",
       "      <td>9.886740</td>\n",
       "    </tr>\n",
       "    <tr>\n",
       "      <th>10</th>\n",
       "      <td>Pęgów</td>\n",
       "      <td>9.867403</td>\n",
       "    </tr>\n",
       "    <tr>\n",
       "      <th>11</th>\n",
       "      <td>Korzeńsko</td>\n",
       "      <td>9.744565</td>\n",
       "    </tr>\n",
       "    <tr>\n",
       "      <th>12</th>\n",
       "      <td>Kłodzko Główne</td>\n",
       "      <td>9.610315</td>\n",
       "    </tr>\n",
       "    <tr>\n",
       "      <th>13</th>\n",
       "      <td>Oborniki Śląskie</td>\n",
       "      <td>9.529466</td>\n",
       "    </tr>\n",
       "    <tr>\n",
       "      <th>14</th>\n",
       "      <td>Starczów</td>\n",
       "      <td>9.243553</td>\n",
       "    </tr>\n",
       "    <tr>\n",
       "      <th>15</th>\n",
       "      <td>Bardo Przyłęk</td>\n",
       "      <td>9.229226</td>\n",
       "    </tr>\n",
       "    <tr>\n",
       "      <th>16</th>\n",
       "      <td>Wrocław Popowice</td>\n",
       "      <td>9.135870</td>\n",
       "    </tr>\n",
       "    <tr>\n",
       "      <th>17</th>\n",
       "      <td>Wrocław Świniary</td>\n",
       "      <td>9.086957</td>\n",
       "    </tr>\n",
       "    <tr>\n",
       "      <th>18</th>\n",
       "      <td>Kamieniec Ząbkowicki</td>\n",
       "      <td>8.957020</td>\n",
       "    </tr>\n",
       "    <tr>\n",
       "      <th>19</th>\n",
       "      <td>Szewce</td>\n",
       "      <td>8.782609</td>\n",
       "    </tr>\n",
       "  </tbody>\n",
       "</table>\n",
       "</div>"
      ],
      "text/plain": [
       "            station_name  avg(avg_delay)\n",
       "0                Rydzyna       11.367688\n",
       "1               Kaczkowo       11.298050\n",
       "2                 Rawicz       11.058932\n",
       "3               Bojanowo       10.360037\n",
       "4                 Garbce       10.217391\n",
       "5                Skokowa       10.213628\n",
       "6          Bardo Śląskie       10.094556\n",
       "7                 Ławica        9.988539\n",
       "8                  Osola        9.959484\n",
       "9                Żmigród        9.886740\n",
       "10                 Pęgów        9.867403\n",
       "11             Korzeńsko        9.744565\n",
       "12        Kłodzko Główne        9.610315\n",
       "13      Oborniki Śląskie        9.529466\n",
       "14              Starczów        9.243553\n",
       "15         Bardo Przyłęk        9.229226\n",
       "16      Wrocław Popowice        9.135870\n",
       "17      Wrocław Świniary        9.086957\n",
       "18  Kamieniec Ząbkowicki        8.957020\n",
       "19                Szewce        8.782609"
      ]
     },
     "execution_count": 103,
     "metadata": {},
     "output_type": "execute_result"
    }
   ],
   "source": [
    "by_stations.toPandas()"
   ]
  },
  {
   "cell_type": "code",
   "execution_count": null,
   "metadata": {},
   "outputs": [],
   "source": []
  }
 ],
 "metadata": {
  "kernelspec": {
   "display_name": "Python 3",
   "language": "python",
   "name": "python3"
  },
  "language_info": {
   "codemirror_mode": {
    "name": "ipython",
    "version": 3
   },
   "file_extension": ".py",
   "mimetype": "text/x-python",
   "name": "python",
   "nbconvert_exporter": "python",
   "pygments_lexer": "ipython3",
   "version": "3.7.5"
  }
 },
 "nbformat": 4,
 "nbformat_minor": 4
}
