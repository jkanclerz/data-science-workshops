{
 "cells": [
  {
   "cell_type": "markdown",
   "metadata": {},
   "source": [
    "Format Json\n",
    "===========\n",
    "\n",
    "- Items may have different fields\n",
    "- fields have keys and values\n",
    "- values may be different formats\n",
    "- values may be json objects itself\n",
    "- values may be collections\n",
    "\n",
    "Materiały\n",
    "\n",
    "- http://www.json.org/\n",
    "- https://docs.python.org/3/library/json.html\n",
    "\n",
    "```python\n",
    "# python script\n",
    "import json\n",
    "help(json)\n",
    "```\n",
    "\n",
    "Najczesciej web service\n",
    "\n",
    "- musicbrainz - https://musicbrainz.org/doc/Development/XML_Web_Service/Version_2\n",
    "- nbp http://api.nbp.pl/\n",
    "\n",
    "- https://musicbrainz.org/ws/2/artist/00a9f935-ba93-4fc8-a33a-993abe9c936b?fmt=json&inc=releases\n",
    "- http://api.nbp.pl/api/exchangerates/tables/A?format=json"
   ]
  },
  {
   "cell_type": "code",
   "execution_count": null,
   "metadata": {},
   "outputs": [],
   "source": [
    "import json\n",
    "help(json)"
   ]
  },
  {
   "cell_type": "code",
   "execution_count": null,
   "metadata": {},
   "outputs": [],
   "source": []
  }
 ],
 "metadata": {
  "kernelspec": {
   "display_name": "Python 3",
   "language": "python",
   "name": "python3"
  },
  "language_info": {
   "codemirror_mode": {
    "name": "ipython",
    "version": 3
   },
   "file_extension": ".py",
   "mimetype": "text/x-python",
   "name": "python",
   "nbconvert_exporter": "python",
   "pygments_lexer": "ipython3",
   "version": "3.7.4"
  }
 },
 "nbformat": 4,
 "nbformat_minor": 2
}
