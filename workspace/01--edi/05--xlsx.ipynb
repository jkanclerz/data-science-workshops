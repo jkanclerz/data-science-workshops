{
 "cells": [
  {
   "cell_type": "markdown",
   "metadata": {},
   "source": [
    "EXCEL\n",
    "======\n",
    "\n",
    "- https://dane.gov.pl/dataset/1076\n",
    "\n",
    "Excel jaki jest kazdy widzi\n",
    "\n",
    "- https://dane.gov.pl/dataset/1076/resource/20402"
   ]
  },
  {
   "cell_type": "code",
   "execution_count": null,
   "metadata": {},
   "outputs": [],
   "source": [
    "!ls -la datasets"
   ]
  },
  {
   "cell_type": "code",
   "execution_count": null,
   "metadata": {},
   "outputs": [],
   "source": [
    "!unzip datasets/Sprawozdania_operatywne_2019_a.zip"
   ]
  },
  {
   "cell_type": "code",
   "execution_count": null,
   "metadata": {},
   "outputs": [],
   "source": [
    "import xlrd\n",
    "from pprint import pprint as pp\n",
    "\n",
    "filepath = 'datasets/Sprawozdanie_operatywne_za_01_2019.xlsx'\n",
    "\n",
    "def parse_file(datafile):\n",
    "    workbook = xlrd.open_workbook(datafile)\n",
    "    pp(workbook.sheet_names())\n",
    "    sheet = workbook.sheet_by_name('TABLICA 1')\n",
    "    print(\"Columns count {}\".format(sheet.ncols))\n",
    "    print(\"Row count {}\".format(sheet.nrows))\n",
    "    \n",
    "    data = [[sheet.cell_value(r, col)\n",
    "            for col in range(sheet.ncols)\n",
    "                for r in range (sheet.nrows)]]\n",
    "    \n",
    "    #Usfule commands\n",
    "    pp(sheet.ncols)\n",
    "    pp(sheet.nrows)\n",
    "    pp(\"Deficyt {}\".format(sheet.cell_value(11, 1)))\n",
    "    pp(sheet.cell_type(11, 1))\n",
    "    pp(sheet.col_values(1, start_rowx=9, end_rowx=12))\n",
    "    \n",
    "parse_file(filepath)"
   ]
  },
  {
   "cell_type": "code",
   "execution_count": null,
   "metadata": {},
   "outputs": [],
   "source": []
  }
 ],
 "metadata": {
  "kernelspec": {
   "display_name": "Python 3",
   "language": "python",
   "name": "python3"
  },
  "language_info": {
   "codemirror_mode": {
    "name": "ipython",
    "version": 3
   },
   "file_extension": ".py",
   "mimetype": "text/x-python",
   "name": "python",
   "nbconvert_exporter": "python",
   "pygments_lexer": "ipython3",
   "version": "3.7.4"
  }
 },
 "nbformat": 4,
 "nbformat_minor": 2
}
