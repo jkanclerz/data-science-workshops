{
 "cells": [
  {
   "cell_type": "code",
   "execution_count": 1,
   "metadata": {},
   "outputs": [
    {
     "name": "stdout",
     "output_type": "stream",
     "text": [
      "Collecting ipython-memory-usage\n",
      "  Downloading https://files.pythonhosted.org/packages/60/e5/6e437102cf49c3843c8f192c7c7b99184e5946930bb9ab0e23799e802586/ipython_memory_usage-1.2.tar.gz\n",
      "Requirement already satisfied: IPython>=2.1 in /Users/jkanclerz/myplace/dydaktyka/przetwarzanie-dokumnetow/.venv/lib/python3.7/site-packages (from ipython-memory-usage) (7.9.0)\n",
      "Collecting memory_profiler (from ipython-memory-usage)\n",
      "\u001b[?25l  Downloading https://files.pythonhosted.org/packages/9f/fe/1fca7273dd111108f204a686b12a12b6422d405fe4614087aa7d5a66ea87/memory_profiler-0.55.0.tar.gz (40kB)\n",
      "\u001b[K    100% |████████████████████████████████| 40kB 470kB/s ta 0:00:01\n",
      "\u001b[?25hRequirement already satisfied: pexpect; sys_platform != \"win32\" in /Users/jkanclerz/myplace/dydaktyka/przetwarzanie-dokumnetow/.venv/lib/python3.7/site-packages (from IPython>=2.1->ipython-memory-usage) (4.7.0)\n",
      "Requirement already satisfied: appnope; sys_platform == \"darwin\" in /Users/jkanclerz/myplace/dydaktyka/przetwarzanie-dokumnetow/.venv/lib/python3.7/site-packages (from IPython>=2.1->ipython-memory-usage) (0.1.0)\n",
      "Requirement already satisfied: prompt-toolkit<2.1.0,>=2.0.0 in /Users/jkanclerz/myplace/dydaktyka/przetwarzanie-dokumnetow/.venv/lib/python3.7/site-packages (from IPython>=2.1->ipython-memory-usage) (2.0.10)\n",
      "Requirement already satisfied: setuptools>=18.5 in /Users/jkanclerz/myplace/dydaktyka/przetwarzanie-dokumnetow/.venv/lib/python3.7/site-packages (from IPython>=2.1->ipython-memory-usage) (40.8.0)\n",
      "Requirement already satisfied: decorator in /Users/jkanclerz/myplace/dydaktyka/przetwarzanie-dokumnetow/.venv/lib/python3.7/site-packages (from IPython>=2.1->ipython-memory-usage) (4.4.1)\n",
      "Requirement already satisfied: pickleshare in /Users/jkanclerz/myplace/dydaktyka/przetwarzanie-dokumnetow/.venv/lib/python3.7/site-packages (from IPython>=2.1->ipython-memory-usage) (0.7.5)\n",
      "Requirement already satisfied: pygments in /Users/jkanclerz/myplace/dydaktyka/przetwarzanie-dokumnetow/.venv/lib/python3.7/site-packages (from IPython>=2.1->ipython-memory-usage) (2.4.2)\n",
      "Requirement already satisfied: backcall in /Users/jkanclerz/myplace/dydaktyka/przetwarzanie-dokumnetow/.venv/lib/python3.7/site-packages (from IPython>=2.1->ipython-memory-usage) (0.1.0)\n",
      "Requirement already satisfied: jedi>=0.10 in /Users/jkanclerz/myplace/dydaktyka/przetwarzanie-dokumnetow/.venv/lib/python3.7/site-packages (from IPython>=2.1->ipython-memory-usage) (0.15.1)\n",
      "Requirement already satisfied: traitlets>=4.2 in /Users/jkanclerz/myplace/dydaktyka/przetwarzanie-dokumnetow/.venv/lib/python3.7/site-packages (from IPython>=2.1->ipython-memory-usage) (4.3.3)\n",
      "Collecting psutil (from memory_profiler->ipython-memory-usage)\n",
      "\u001b[?25l  Downloading https://files.pythonhosted.org/packages/03/9a/95c4b3d0424426e5fd94b5302ff74cea44d5d4f53466e1228ac8e73e14b4/psutil-5.6.5.tar.gz (447kB)\n",
      "\u001b[K    100% |████████████████████████████████| 450kB 1.8MB/s ta 0:00:01\n",
      "\u001b[?25hRequirement already satisfied: ptyprocess>=0.5 in /Users/jkanclerz/myplace/dydaktyka/przetwarzanie-dokumnetow/.venv/lib/python3.7/site-packages (from pexpect; sys_platform != \"win32\"->IPython>=2.1->ipython-memory-usage) (0.6.0)\n",
      "Requirement already satisfied: six>=1.9.0 in /Users/jkanclerz/myplace/dydaktyka/przetwarzanie-dokumnetow/.venv/lib/python3.7/site-packages (from prompt-toolkit<2.1.0,>=2.0.0->IPython>=2.1->ipython-memory-usage) (1.13.0)\n",
      "Requirement already satisfied: wcwidth in /Users/jkanclerz/myplace/dydaktyka/przetwarzanie-dokumnetow/.venv/lib/python3.7/site-packages (from prompt-toolkit<2.1.0,>=2.0.0->IPython>=2.1->ipython-memory-usage) (0.1.7)\n",
      "Requirement already satisfied: parso>=0.5.0 in /Users/jkanclerz/myplace/dydaktyka/przetwarzanie-dokumnetow/.venv/lib/python3.7/site-packages (from jedi>=0.10->IPython>=2.1->ipython-memory-usage) (0.5.1)\n",
      "Requirement already satisfied: ipython-genutils in /Users/jkanclerz/myplace/dydaktyka/przetwarzanie-dokumnetow/.venv/lib/python3.7/site-packages (from traitlets>=4.2->IPython>=2.1->ipython-memory-usage) (0.2.0)\n",
      "Installing collected packages: psutil, memory-profiler, ipython-memory-usage\n",
      "  Running setup.py install for psutil ... \u001b[?25ldone\n",
      "\u001b[?25h  Running setup.py install for memory-profiler ... \u001b[?25ldone\n",
      "\u001b[?25h  Running setup.py install for ipython-memory-usage ... \u001b[?25ldone\n",
      "\u001b[?25hSuccessfully installed ipython-memory-usage-1.2 memory-profiler-0.55.0 psutil-5.6.5\n",
      "\u001b[33mYou are using pip version 19.0.3, however version 19.3.1 is available.\n",
      "You should consider upgrading via the 'pip install --upgrade pip' command.\u001b[0m\n",
      "Note: you may need to restart the kernel to use updated packages.\n"
     ]
    }
   ],
   "source": [
    "pip install ipython-memory-usage"
   ]
  },
  {
   "cell_type": "code",
   "execution_count": 1,
   "metadata": {},
   "outputs": [],
   "source": [
    "x = 2"
   ]
  },
  {
   "cell_type": "code",
   "execution_count": 2,
   "metadata": {},
   "outputs": [
    {
     "data": {
      "text/plain": [
       "'memory profile enabled'"
      ]
     },
     "execution_count": 2,
     "metadata": {},
     "output_type": "execute_result"
    },
    {
     "name": "stdout",
     "output_type": "stream",
     "text": [
      "In [2] used 0.0547 MiB RAM in 0.12s, peaked 0.00 MiB above current, total RAM usage 46.64 MiB\n"
     ]
    }
   ],
   "source": [
    "import ipython_memory_usage \n",
    "%ipython_memory_usage_start "
   ]
  },
  {
   "cell_type": "code",
   "execution_count": 3,
   "metadata": {},
   "outputs": [
    {
     "name": "stdout",
     "output_type": "stream",
     "text": [
      "In [3] used 0.0547 MiB RAM in 0.10s, peaked 0.00 MiB above current, total RAM usage 46.70 MiB\n"
     ]
    }
   ],
   "source": [
    "x = 2"
   ]
  },
  {
   "cell_type": "code",
   "execution_count": 25,
   "metadata": {},
   "outputs": [
    {
     "name": "stdout",
     "output_type": "stream",
     "text": [
      "In [25] used 0.0000 MiB RAM in 0.11s, peaked 0.00 MiB above current, total RAM usage 5009.70 MiB\n"
     ]
    }
   ],
   "source": [
    "x = range(1, 100000)\n",
    "x = ((x, \"a\" * x) for x in x)"
   ]
  },
  {
   "cell_type": "code",
   "execution_count": 26,
   "metadata": {},
   "outputs": [
    {
     "name": "stdout",
     "output_type": "stream",
     "text": [
      "In [26] used 1484.5234 MiB RAM in 3.05s, peaked 51.10 MiB above current, total RAM usage 6494.23 MiB\n"
     ]
    }
   ],
   "source": [
    "loaded = list(x)"
   ]
  },
  {
   "cell_type": "code",
   "execution_count": null,
   "metadata": {},
   "outputs": [],
   "source": []
  },
  {
   "cell_type": "code",
   "execution_count": null,
   "metadata": {},
   "outputs": [],
   "source": []
  }
 ],
 "metadata": {
  "kernelspec": {
   "display_name": "Python 3",
   "language": "python",
   "name": "python3"
  },
  "language_info": {
   "codemirror_mode": {
    "name": "ipython",
    "version": 3
   },
   "file_extension": ".py",
   "mimetype": "text/x-python",
   "name": "python",
   "nbconvert_exporter": "python",
   "pygments_lexer": "ipython3",
   "version": "3.7.4"
  }
 },
 "nbformat": 4,
 "nbformat_minor": 2
}
